{
 "cells": [
  {
   "cell_type": "code",
   "execution_count": 11,
   "metadata": {},
   "outputs": [],
   "source": [
    "from io import StringIO\n",
    "from pandas import read_csv, to_datetime\n",
    "\n",
    "# how close do sessions have to be to be considered equal? (in minutes)\n",
    "threshold = 5\n",
    "\n",
    "# datetime column (combination of date + start_time)\n",
    "dtc = [['date', 'start_time']]\n",
    "\n",
    "# index column (above combination)\n",
    "ixc = 'date_start_time'\n",
    "\n",
    "df1 = read_csv(StringIO(u'''\n",
    "date,start_time,employee_id,session_id\n",
    "01/01/2016,02:03:00,7261824,871631182\n",
    "01/01/2016,06:03:00,7261824,871631183\n",
    "01/01/2016,11:01:00,7261824,871631184\n",
    "01/01/2016,14:01:00,7261824,871631185\n",
    "'''), parse_dates=dtc)\n",
    "\n",
    "df2 = read_csv(StringIO(u'''\n",
    "date,start_time,employee_id,session_id\n",
    "01/01/2016,02:03:00,7261824,871631182\n",
    "01/01/2016,06:05:00,7261824,871631183\n",
    "01/01/2016,11:04:00,7261824,871631184\n",
    "01/01/2016,14:10:00,7261824,871631185\n",
    "'''), parse_dates=dtc)"
   ]
  },
  {
   "cell_type": "code",
   "execution_count": 12,
   "metadata": {},
   "outputs": [
    {
     "data": {
      "text/html": [
       "<div>\n",
       "<style scoped>\n",
       "    .dataframe tbody tr th:only-of-type {\n",
       "        vertical-align: middle;\n",
       "    }\n",
       "\n",
       "    .dataframe tbody tr th {\n",
       "        vertical-align: top;\n",
       "    }\n",
       "\n",
       "    .dataframe thead th {\n",
       "        text-align: right;\n",
       "    }\n",
       "</style>\n",
       "<table border=\"1\" class=\"dataframe\">\n",
       "  <thead>\n",
       "    <tr style=\"text-align: right;\">\n",
       "      <th></th>\n",
       "      <th>date_start_time</th>\n",
       "      <th>employee_id</th>\n",
       "      <th>session_id</th>\n",
       "    </tr>\n",
       "  </thead>\n",
       "  <tbody>\n",
       "    <tr>\n",
       "      <th>0</th>\n",
       "      <td>2016-01-01 02:03:00</td>\n",
       "      <td>7261824</td>\n",
       "      <td>871631182</td>\n",
       "    </tr>\n",
       "    <tr>\n",
       "      <th>1</th>\n",
       "      <td>2016-01-01 06:03:00</td>\n",
       "      <td>7261824</td>\n",
       "      <td>871631183</td>\n",
       "    </tr>\n",
       "    <tr>\n",
       "      <th>2</th>\n",
       "      <td>2016-01-01 11:01:00</td>\n",
       "      <td>7261824</td>\n",
       "      <td>871631184</td>\n",
       "    </tr>\n",
       "    <tr>\n",
       "      <th>3</th>\n",
       "      <td>2016-01-01 14:01:00</td>\n",
       "      <td>7261824</td>\n",
       "      <td>871631185</td>\n",
       "    </tr>\n",
       "  </tbody>\n",
       "</table>\n",
       "</div>"
      ],
      "text/plain": [
       "      date_start_time  employee_id  session_id\n",
       "0 2016-01-01 02:03:00      7261824   871631182\n",
       "1 2016-01-01 06:03:00      7261824   871631183\n",
       "2 2016-01-01 11:01:00      7261824   871631184\n",
       "3 2016-01-01 14:01:00      7261824   871631185"
      ]
     },
     "execution_count": 12,
     "metadata": {},
     "output_type": "execute_result"
    }
   ],
   "source": [
    "df1"
   ]
  },
  {
   "cell_type": "code",
   "execution_count": 13,
   "metadata": {},
   "outputs": [
    {
     "data": {
      "text/html": [
       "<div>\n",
       "<style scoped>\n",
       "    .dataframe tbody tr th:only-of-type {\n",
       "        vertical-align: middle;\n",
       "    }\n",
       "\n",
       "    .dataframe tbody tr th {\n",
       "        vertical-align: top;\n",
       "    }\n",
       "\n",
       "    .dataframe thead th {\n",
       "        text-align: right;\n",
       "    }\n",
       "</style>\n",
       "<table border=\"1\" class=\"dataframe\">\n",
       "  <thead>\n",
       "    <tr style=\"text-align: right;\">\n",
       "      <th></th>\n",
       "      <th>date_start_time</th>\n",
       "      <th>employee_id</th>\n",
       "      <th>session_id</th>\n",
       "    </tr>\n",
       "  </thead>\n",
       "  <tbody>\n",
       "    <tr>\n",
       "      <th>0</th>\n",
       "      <td>2016-01-01 02:03:00</td>\n",
       "      <td>7261824</td>\n",
       "      <td>871631182</td>\n",
       "    </tr>\n",
       "    <tr>\n",
       "      <th>1</th>\n",
       "      <td>2016-01-01 06:05:00</td>\n",
       "      <td>7261824</td>\n",
       "      <td>871631183</td>\n",
       "    </tr>\n",
       "    <tr>\n",
       "      <th>2</th>\n",
       "      <td>2016-01-01 11:04:00</td>\n",
       "      <td>7261824</td>\n",
       "      <td>871631184</td>\n",
       "    </tr>\n",
       "    <tr>\n",
       "      <th>3</th>\n",
       "      <td>2016-01-01 14:10:00</td>\n",
       "      <td>7261824</td>\n",
       "      <td>871631185</td>\n",
       "    </tr>\n",
       "  </tbody>\n",
       "</table>\n",
       "</div>"
      ],
      "text/plain": [
       "      date_start_time  employee_id  session_id\n",
       "0 2016-01-01 02:03:00      7261824   871631182\n",
       "1 2016-01-01 06:05:00      7261824   871631183\n",
       "2 2016-01-01 11:04:00      7261824   871631184\n",
       "3 2016-01-01 14:10:00      7261824   871631185"
      ]
     },
     "execution_count": 13,
     "metadata": {},
     "output_type": "execute_result"
    }
   ],
   "source": [
    "df2"
   ]
  },
  {
   "cell_type": "code",
   "execution_count": 15,
   "metadata": {},
   "outputs": [
    {
     "name": "stdout",
     "output_type": "stream",
     "text": [
      "             interval  employee_id  session_id\n",
      "0 2016-01-01 02:05:00      7261824   871631182\n",
      "1 2016-01-01 06:05:00      7261824   871631183\n",
      "2 2016-01-01 11:00:00      7261824   871631184\n",
      "3 2016-01-01 14:00:00      7261824   871631185\n",
      "4 2016-01-01 11:05:00      7261824   871631184\n",
      "5 2016-01-01 14:10:00      7261824   871631185\n"
     ]
    }
   ],
   "source": [
    "import numpy as np\n",
    "\n",
    "# half-threshold in nanoseconds\n",
    "threshold_ns = threshold * 60 * 1e9\n",
    "\n",
    "# compute \"interval\" to which each session belongs\n",
    "df1['interval'] = to_datetime(np.round(df1.date_start_time.astype(np.int64) / threshold_ns) * threshold_ns)\n",
    "df2['interval'] = to_datetime(np.round(df2.date_start_time.astype(np.int64) / threshold_ns) * threshold_ns)\n",
    "\n",
    "# join\n",
    "cols = ['interval', 'employee_id', 'session_id']\n",
    "print (df1.merge(df2, on=cols, how='outer')[cols])"
   ]
  },
  {
   "cell_type": "code",
   "execution_count": 16,
   "metadata": {},
   "outputs": [
    {
     "data": {
      "text/html": [
       "<div>\n",
       "<style scoped>\n",
       "    .dataframe tbody tr th:only-of-type {\n",
       "        vertical-align: middle;\n",
       "    }\n",
       "\n",
       "    .dataframe tbody tr th {\n",
       "        vertical-align: top;\n",
       "    }\n",
       "\n",
       "    .dataframe thead th {\n",
       "        text-align: right;\n",
       "    }\n",
       "</style>\n",
       "<table border=\"1\" class=\"dataframe\">\n",
       "  <thead>\n",
       "    <tr style=\"text-align: right;\">\n",
       "      <th></th>\n",
       "      <th>date_start_time</th>\n",
       "      <th>employee_id</th>\n",
       "      <th>session_id</th>\n",
       "      <th>interval</th>\n",
       "    </tr>\n",
       "  </thead>\n",
       "  <tbody>\n",
       "    <tr>\n",
       "      <th>0</th>\n",
       "      <td>2016-01-01 02:03:00</td>\n",
       "      <td>7261824</td>\n",
       "      <td>871631182</td>\n",
       "      <td>2016-01-01 02:05:00</td>\n",
       "    </tr>\n",
       "    <tr>\n",
       "      <th>1</th>\n",
       "      <td>2016-01-01 06:03:00</td>\n",
       "      <td>7261824</td>\n",
       "      <td>871631183</td>\n",
       "      <td>2016-01-01 06:05:00</td>\n",
       "    </tr>\n",
       "    <tr>\n",
       "      <th>2</th>\n",
       "      <td>2016-01-01 11:01:00</td>\n",
       "      <td>7261824</td>\n",
       "      <td>871631184</td>\n",
       "      <td>2016-01-01 11:00:00</td>\n",
       "    </tr>\n",
       "    <tr>\n",
       "      <th>3</th>\n",
       "      <td>2016-01-01 14:01:00</td>\n",
       "      <td>7261824</td>\n",
       "      <td>871631185</td>\n",
       "      <td>2016-01-01 14:00:00</td>\n",
       "    </tr>\n",
       "  </tbody>\n",
       "</table>\n",
       "</div>"
      ],
      "text/plain": [
       "      date_start_time  employee_id  session_id            interval\n",
       "0 2016-01-01 02:03:00      7261824   871631182 2016-01-01 02:05:00\n",
       "1 2016-01-01 06:03:00      7261824   871631183 2016-01-01 06:05:00\n",
       "2 2016-01-01 11:01:00      7261824   871631184 2016-01-01 11:00:00\n",
       "3 2016-01-01 14:01:00      7261824   871631185 2016-01-01 14:00:00"
      ]
     },
     "execution_count": 16,
     "metadata": {},
     "output_type": "execute_result"
    }
   ],
   "source": [
    "df1"
   ]
  },
  {
   "cell_type": "code",
   "execution_count": 17,
   "metadata": {},
   "outputs": [
    {
     "data": {
      "text/html": [
       "<div>\n",
       "<style scoped>\n",
       "    .dataframe tbody tr th:only-of-type {\n",
       "        vertical-align: middle;\n",
       "    }\n",
       "\n",
       "    .dataframe tbody tr th {\n",
       "        vertical-align: top;\n",
       "    }\n",
       "\n",
       "    .dataframe thead th {\n",
       "        text-align: right;\n",
       "    }\n",
       "</style>\n",
       "<table border=\"1\" class=\"dataframe\">\n",
       "  <thead>\n",
       "    <tr style=\"text-align: right;\">\n",
       "      <th></th>\n",
       "      <th>date_start_time</th>\n",
       "      <th>employee_id</th>\n",
       "      <th>session_id</th>\n",
       "      <th>interval</th>\n",
       "    </tr>\n",
       "  </thead>\n",
       "  <tbody>\n",
       "    <tr>\n",
       "      <th>0</th>\n",
       "      <td>2016-01-01 02:03:00</td>\n",
       "      <td>7261824</td>\n",
       "      <td>871631182</td>\n",
       "      <td>2016-01-01 02:05:00</td>\n",
       "    </tr>\n",
       "    <tr>\n",
       "      <th>1</th>\n",
       "      <td>2016-01-01 06:05:00</td>\n",
       "      <td>7261824</td>\n",
       "      <td>871631183</td>\n",
       "      <td>2016-01-01 06:05:00</td>\n",
       "    </tr>\n",
       "    <tr>\n",
       "      <th>2</th>\n",
       "      <td>2016-01-01 11:04:00</td>\n",
       "      <td>7261824</td>\n",
       "      <td>871631184</td>\n",
       "      <td>2016-01-01 11:05:00</td>\n",
       "    </tr>\n",
       "    <tr>\n",
       "      <th>3</th>\n",
       "      <td>2016-01-01 14:10:00</td>\n",
       "      <td>7261824</td>\n",
       "      <td>871631185</td>\n",
       "      <td>2016-01-01 14:10:00</td>\n",
       "    </tr>\n",
       "  </tbody>\n",
       "</table>\n",
       "</div>"
      ],
      "text/plain": [
       "      date_start_time  employee_id  session_id            interval\n",
       "0 2016-01-01 02:03:00      7261824   871631182 2016-01-01 02:05:00\n",
       "1 2016-01-01 06:05:00      7261824   871631183 2016-01-01 06:05:00\n",
       "2 2016-01-01 11:04:00      7261824   871631184 2016-01-01 11:05:00\n",
       "3 2016-01-01 14:10:00      7261824   871631185 2016-01-01 14:10:00"
      ]
     },
     "execution_count": 17,
     "metadata": {},
     "output_type": "execute_result"
    }
   ],
   "source": [
    "df2"
   ]
  },
  {
   "cell_type": "code",
   "execution_count": 18,
   "metadata": {},
   "outputs": [
    {
     "data": {
      "text/plain": [
       "date_start_time    datetime64[ns]\n",
       "employee_id                 int64\n",
       "session_id                  int64\n",
       "interval           datetime64[ns]\n",
       "dtype: object"
      ]
     },
     "execution_count": 18,
     "metadata": {},
     "output_type": "execute_result"
    }
   ],
   "source": [
    "df2.dtypes"
   ]
  },
  {
   "cell_type": "code",
   "execution_count": null,
   "metadata": {},
   "outputs": [],
   "source": []
  }
 ],
 "metadata": {
  "kernelspec": {
   "display_name": "Python 3",
   "language": "python",
   "name": "python3"
  },
  "language_info": {
   "codemirror_mode": {
    "name": "ipython",
    "version": 3
   },
   "file_extension": ".py",
   "mimetype": "text/x-python",
   "name": "python",
   "nbconvert_exporter": "python",
   "pygments_lexer": "ipython3",
   "version": "3.7.4"
  }
 },
 "nbformat": 4,
 "nbformat_minor": 4
}
